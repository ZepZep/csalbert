{
 "cells": [
  {
   "cell_type": "code",
   "execution_count": 11,
   "metadata": {},
   "outputs": [],
   "source": [
    "import pandas as pd\n",
    "import re"
   ]
  },
  {
   "cell_type": "code",
   "execution_count": 41,
   "metadata": {},
   "outputs": [
    {
     "data": {
      "text/html": [
       "<div>\n",
       "<style scoped>\n",
       "    .dataframe tbody tr th:only-of-type {\n",
       "        vertical-align: middle;\n",
       "    }\n",
       "\n",
       "    .dataframe tbody tr th {\n",
       "        vertical-align: top;\n",
       "    }\n",
       "\n",
       "    .dataframe thead th {\n",
       "        text-align: right;\n",
       "    }\n",
       "</style>\n",
       "<table border=\"1\" class=\"dataframe\">\n",
       "  <thead>\n",
       "    <tr style=\"text-align: right;\">\n",
       "      <th></th>\n",
       "      <th>text</th>\n",
       "      <th>question</th>\n",
       "      <th>answer</th>\n",
       "      <th>answer_sentence</th>\n",
       "      <th>sentences</th>\n",
       "    </tr>\n",
       "  </thead>\n",
       "  <tbody>\n",
       "    <tr>\n",
       "      <th>1</th>\n",
       "      <td>Létající jaguár je novela spisovatele Josefa F...</td>\n",
       "      <td>Kdo je autorem novely Létající jaguár?</td>\n",
       "      <td>Josefa Formánka</td>\n",
       "      <td>Létající jaguár je novela spisovatele Josefa F...</td>\n",
       "      <td>[Létající jaguár je novela spisovatele Josefa ...</td>\n",
       "    </tr>\n",
       "    <tr>\n",
       "      <th>2</th>\n",
       "      <td>Houby (Fungi, dříve Mycophyta) představují vel...</td>\n",
       "      <td>Jak se nazývá věda zabývající se houbami?</td>\n",
       "      <td>mykologie</td>\n",
       "      <td>Věda zabývající se houbami se nazývá mykologie.</td>\n",
       "      <td>[Houby (Fungi, dříve Mycophyta) představují ve...</td>\n",
       "    </tr>\n",
       "    <tr>\n",
       "      <th>3</th>\n",
       "      <td>Čokoláda je obvyklá součást nejrůznějších druh...</td>\n",
       "      <td>Jak se nazývá strom, jehož zrna jsou využívána...</td>\n",
       "      <td>Theobroma cacao</td>\n",
       "      <td>Čokoláda se vyrábí z kvašených, pražených a ml...</td>\n",
       "      <td>[Čokoláda je obvyklá součást nejrůznějších dru...</td>\n",
       "    </tr>\n",
       "    <tr>\n",
       "      <th>4</th>\n",
       "      <td>Václav Havel (5. října 1936 Praha – 18. prosin...</td>\n",
       "      <td>Kdo se stal prvním prezidentem České republiky?</td>\n",
       "      <td>Václav Havel</td>\n",
       "      <td>Václav Havel (5. října 1936 Praha – 18. prosin...</td>\n",
       "      <td>[Václav Havel (5. října 1936 Praha – 18. prosi...</td>\n",
       "    </tr>\n",
       "    <tr>\n",
       "      <th>5</th>\n",
       "      <td>Pampeliška (Taraxacum), či také smetánka, je z...</td>\n",
       "      <td>Do jaké čeledi rostlin patří pampeliška?</td>\n",
       "      <td>hvězdnicovité</td>\n",
       "      <td>Pampeliška (Taraxacum), či také smetánka, je z...</td>\n",
       "      <td>[Pampeliška (Taraxacum), či také smetánka, je ...</td>\n",
       "    </tr>\n",
       "  </tbody>\n",
       "</table>\n",
       "</div>"
      ],
      "text/plain": [
       "                                                text  \\\n",
       "1  Létající jaguár je novela spisovatele Josefa F...   \n",
       "2  Houby (Fungi, dříve Mycophyta) představují vel...   \n",
       "3  Čokoláda je obvyklá součást nejrůznějších druh...   \n",
       "4  Václav Havel (5. října 1936 Praha – 18. prosin...   \n",
       "5  Pampeliška (Taraxacum), či také smetánka, je z...   \n",
       "\n",
       "                                            question           answer  \\\n",
       "1             Kdo je autorem novely Létající jaguár?  Josefa Formánka   \n",
       "2          Jak se nazývá věda zabývající se houbami?        mykologie   \n",
       "3  Jak se nazývá strom, jehož zrna jsou využívána...  Theobroma cacao   \n",
       "4    Kdo se stal prvním prezidentem České republiky?     Václav Havel   \n",
       "5           Do jaké čeledi rostlin patří pampeliška?    hvězdnicovité   \n",
       "\n",
       "                                     answer_sentence  \\\n",
       "1  Létající jaguár je novela spisovatele Josefa F...   \n",
       "2    Věda zabývající se houbami se nazývá mykologie.   \n",
       "3  Čokoláda se vyrábí z kvašených, pražených a ml...   \n",
       "4  Václav Havel (5. října 1936 Praha – 18. prosin...   \n",
       "5  Pampeliška (Taraxacum), či také smetánka, je z...   \n",
       "\n",
       "                                           sentences  \n",
       "1  [Létající jaguár je novela spisovatele Josefa ...  \n",
       "2  [Houby (Fungi, dříve Mycophyta) představují ve...  \n",
       "3  [Čokoláda je obvyklá součást nejrůznějších dru...  \n",
       "4  [Václav Havel (5. října 1936 Praha – 18. prosi...  \n",
       "5  [Pampeliška (Taraxacum), či také smetánka, je ...  "
      ]
     },
     "execution_count": 41,
     "metadata": {},
     "output_type": "execute_result"
    }
   ],
   "source": [
    "df = pd.read_csv(\"dataset/sqad_split.csv\", index_col=0)\n",
    "df = df.drop(5146)\n",
    "df[\"sentences\"] = df.text.map(lambda x: x.split(\"\\n\"))\n",
    "df.head()"
   ]
  },
  {
   "cell_type": "code",
   "execution_count": 42,
   "metadata": {},
   "outputs": [
    {
     "data": {
      "text/plain": [
       "11994.540305819477"
      ]
     },
     "execution_count": 42,
     "metadata": {},
     "output_type": "execute_result"
    }
   ],
   "source": [
    "df.text.map(len).mean()\n"
   ]
  },
  {
   "cell_type": "code",
   "execution_count": 43,
   "metadata": {},
   "outputs": [],
   "source": [
    "def get_sentence_index(row):\n",
    "    try:\n",
    "        return row.sentences.index(row.answer_sentence)\n",
    "    except ValueError:\n",
    "        return -1\n",
    "\n",
    "#[df.answer_sentence.map(lambda x: \"\\n\" not in x)]"
   ]
  },
  {
   "cell_type": "code",
   "execution_count": 44,
   "metadata": {},
   "outputs": [
    {
     "name": "stdout",
     "output_type": "stream",
     "text": [
      "     8 16\n",
      "   433 16\n",
      "   466 21\n",
      "   600 11\n",
      "   630 41\n",
      "   636 29\n",
      "   652 18\n",
      "   825 19\n",
      "   931 79\n",
      "   953 61\n",
      "   954 61\n",
      "   955 61\n",
      "  1307 29\n",
      "  1972 20\n",
      "  2439 20\n",
      "  2441 20\n",
      "  2702 73\n",
      "  5260 35\n",
      "  6623 144\n",
      "  8264 22\n",
      "  9356 24\n",
      "  9927 62\n",
      " 10026 23\n",
      " 10768 21\n",
      " 11516 28\n",
      " 11525 25\n",
      " 11576 54\n",
      " 11719 38\n",
      " 13341 31\n",
      " 13346 79\n",
      " 13368 50\n",
      " 13444 31\n"
     ]
    }
   ],
   "source": [
    "for row in df[df.apply(get_sentence_index, axis=1) == -1].iloc:\n",
    "    try:\n",
    "        anss = row.answer_sentence.split(\"\\n\")\n",
    "        sntcs = row.sentences\n",
    "\n",
    "        i_beg = row.sentences.index(anss[0])\n",
    "        i_end = row.sentences.index(anss[-1])\n",
    "\n",
    "        sentences = sntcs[:i_beg] + [\" \".join(sntcs[i_beg:i_end+1])] + sntcs[i_end+1:]\n",
    "        answer = \" \".join(anss)\n",
    "\n",
    "        df.loc[row.name].sentences = sentences\n",
    "        df.loc[row.name].answer_sentence = answer\n",
    "        print(f\"{row.name: 6d}\", len(answer.split(\" \")))\n",
    "    except ValueError:\n",
    "        print(repr(row.sentences))\n",
    "        print(repr(row.answer_sentence))\n",
    "        print()\n"
   ]
  },
  {
   "cell_type": "code",
   "execution_count": 45,
   "metadata": {},
   "outputs": [
    {
     "data": {
      "text/html": [
       "<div>\n",
       "<style scoped>\n",
       "    .dataframe tbody tr th:only-of-type {\n",
       "        vertical-align: middle;\n",
       "    }\n",
       "\n",
       "    .dataframe tbody tr th {\n",
       "        vertical-align: top;\n",
       "    }\n",
       "\n",
       "    .dataframe thead th {\n",
       "        text-align: right;\n",
       "    }\n",
       "</style>\n",
       "<table border=\"1\" class=\"dataframe\">\n",
       "  <thead>\n",
       "    <tr style=\"text-align: right;\">\n",
       "      <th></th>\n",
       "      <th>text</th>\n",
       "      <th>question</th>\n",
       "      <th>answer</th>\n",
       "      <th>answer_sentence</th>\n",
       "      <th>sentences</th>\n",
       "      <th>start</th>\n",
       "    </tr>\n",
       "  </thead>\n",
       "  <tbody>\n",
       "  </tbody>\n",
       "</table>\n",
       "</div>"
      ],
      "text/plain": [
       "Empty DataFrame\n",
       "Columns: [text, question, answer, answer_sentence, sentences, start]\n",
       "Index: []"
      ]
     },
     "execution_count": 45,
     "metadata": {},
     "output_type": "execute_result"
    }
   ],
   "source": [
    "starts = df.apply(get_sentence_index, axis=1)\n",
    "df[\"start\"] = starts\n",
    "df[starts == -1]"
   ]
  },
  {
   "cell_type": "code",
   "execution_count": 46,
   "metadata": {},
   "outputs": [
    {
     "data": {
      "text/plain": [
       "0      6445\n",
       "1      1214\n",
       "2       757\n",
       "3       492\n",
       "4       364\n",
       "       ... \n",
       "521       1\n",
       "239       1\n",
       "197       1\n",
       "109       1\n",
       "511       1\n",
       "Length: 315, dtype: int64"
      ]
     },
     "execution_count": 46,
     "metadata": {},
     "output_type": "execute_result"
    }
   ],
   "source": [
    "starts.value_counts()"
   ]
  },
  {
   "cell_type": "code",
   "execution_count": 88,
   "metadata": {},
   "outputs": [],
   "source": [
    "from random import randint, random\n",
    "\n",
    "def create_training_data(df, margin=5, dupe=1.0):\n",
    "    index = 0\n",
    "    data = []\n",
    "    out = pd.DataFrame(columns=[\"text\", \"question\", \"answer\", \"answer_sentence\", \"pos\"])\n",
    "    for row in df.iloc:\n",
    "        curdupe = dupe\n",
    "        pars = []\n",
    "        \n",
    "        while random() <= curdupe:\n",
    "            pre = randint(0, margin)\n",
    "            post = randint(margin-pre, 2*margin-pre)\n",
    "            pos = row.start\n",
    "            \n",
    "            l = pos-pre\n",
    "            r = pos+post+1\n",
    "            slen = len(row.sentences)\n",
    "            \n",
    "            if r - l > slen:\n",
    "                text_sntcs = row.sentences\n",
    "#                 print(slen, text_sntcs)\n",
    "            else:\n",
    "                text_sntcs = []\n",
    "                if l < 0:\n",
    "                    text_sntcs += row.sentences[l:]\n",
    "                    text_sntcs += row.sentences[:pos]\n",
    "                else:\n",
    "                    text_sntcs += row.sentences[l:pos]\n",
    "\n",
    "                if r > slen:\n",
    "                    text_sntcs += row.sentences[:r-slen]\n",
    "                text_sntcs += row.sentences[pos:r]\n",
    "\n",
    "                if not r-l == len(text_sntcs):\n",
    "                    print(l, pos, r, slen, r-l, len(text_sntcs))\n",
    "\n",
    "#             print(len(\" \".join(text_sntcs).split(\" \")))\n",
    "\n",
    "\n",
    "            answer = row.answer_sentence\n",
    "            context = \" \".join(text_sntcs)\n",
    "            answer_start = re.search(re.escape(answer), context).start()\n",
    "            \n",
    "            par = {\n",
    "                \"qas\": [{\n",
    "                    \"id\": f\"{row.name}.{len(pars)}\",\n",
    "                    \"question\": row.question,\n",
    "                    \"answers\": [{\n",
    "                        \"text\": answer,\n",
    "                        \"answer_start\": answer_start\n",
    "                    }],\n",
    "                    \"is_impossible\": False\n",
    "                }],\n",
    "                \"context\": context\n",
    "            }\n",
    "            \n",
    "            if r - l > slen:\n",
    "                break\n",
    "        \n",
    "            pars.append(par)\n",
    "            curdupe -= 1\n",
    "        \n",
    "        data.append({\"title\": str(row.name), \"paragraphs\": pars})\n",
    "        \n",
    "    return data\n",
    "\n",
    "data = create_training_data(df, 5, 2)"
   ]
  },
  {
   "cell_type": "code",
   "execution_count": 89,
   "metadata": {},
   "outputs": [],
   "source": [
    "import json\n",
    "def write_squad_json(path, data, version=\"42.0\"):\n",
    "    jj = {\n",
    "        \"version\": version,\n",
    "        \"data\": data\n",
    "    }\n",
    "    \n",
    "    with open(path, \"w\") as f:\n",
    "        json.dump(jj, f)\n",
    "        \n",
    "write_squad_json(\"dataset/sqad.json\", data)"
   ]
  },
  {
   "cell_type": "code",
   "execution_count": null,
   "metadata": {},
   "outputs": [],
   "source": []
  }
 ],
 "metadata": {
  "kernelspec": {
   "display_name": "Python 3",
   "language": "python",
   "name": "python3"
  },
  "language_info": {
   "codemirror_mode": {
    "name": "ipython",
    "version": 3
   },
   "file_extension": ".py",
   "mimetype": "text/x-python",
   "name": "python",
   "nbconvert_exporter": "python",
   "pygments_lexer": "ipython3",
   "version": "3.8.2"
  }
 },
 "nbformat": 4,
 "nbformat_minor": 4
}
