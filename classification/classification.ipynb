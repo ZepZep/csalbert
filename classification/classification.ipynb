{
 "cells": [
  {
   "cell_type": "markdown",
   "metadata": {},
   "source": [
    "# Czech ALBERT classifier"
   ]
  },
  {
   "cell_type": "code",
   "execution_count": 27,
   "metadata": {},
   "outputs": [],
   "source": [
    "import pandas as pd\n",
    "import numpy as np"
   ]
  },
  {
   "cell_type": "markdown",
   "metadata": {},
   "source": [
    "## Load dataset \n",
    "This test dataset is very small"
   ]
  },
  {
   "cell_type": "code",
   "execution_count": 20,
   "metadata": {},
   "outputs": [
    {
     "data": {
      "text/html": [
       "<div>\n",
       "<style scoped>\n",
       "    .dataframe tbody tr th:only-of-type {\n",
       "        vertical-align: middle;\n",
       "    }\n",
       "\n",
       "    .dataframe tbody tr th {\n",
       "        vertical-align: top;\n",
       "    }\n",
       "\n",
       "    .dataframe thead th {\n",
       "        text-align: right;\n",
       "    }\n",
       "</style>\n",
       "<table border=\"1\" class=\"dataframe\">\n",
       "  <thead>\n",
       "    <tr style=\"text-align: right;\">\n",
       "      <th></th>\n",
       "      <th>text</th>\n",
       "      <th>category</th>\n",
       "    </tr>\n",
       "  </thead>\n",
       "  <tbody>\n",
       "    <tr>\n",
       "      <th>0</th>\n",
       "      <td>Ruští diplomaté vypovězení ze Spojených států ...</td>\n",
       "      <td>2</td>\n",
       "    </tr>\n",
       "    <tr>\n",
       "      <th>1</th>\n",
       "      <td>Izrael obvinil radikální hnutí Hamás z toho, ž...</td>\n",
       "      <td>2</td>\n",
       "    </tr>\n",
       "    <tr>\n",
       "      <th>2</th>\n",
       "      <td>Italské ministerstvo zahraničí si v sobotu pře...</td>\n",
       "      <td>2</td>\n",
       "    </tr>\n",
       "    <tr>\n",
       "      <th>3</th>\n",
       "      <td>Pět stovek pozvaných smutečních hostů se v sob...</td>\n",
       "      <td>2</td>\n",
       "    </tr>\n",
       "    <tr>\n",
       "      <th>4</th>\n",
       "      <td>Tisíce mrtvých zvířat, poničená příroda a míst...</td>\n",
       "      <td>2</td>\n",
       "    </tr>\n",
       "  </tbody>\n",
       "</table>\n",
       "</div>"
      ],
      "text/plain": [
       "                                                text  category\n",
       "0  Ruští diplomaté vypovězení ze Spojených států ...         2\n",
       "1  Izrael obvinil radikální hnutí Hamás z toho, ž...         2\n",
       "2  Italské ministerstvo zahraničí si v sobotu pře...         2\n",
       "3  Pět stovek pozvaných smutečních hostů se v sob...         2\n",
       "4  Tisíce mrtvých zvířat, poničená příroda a míst...         2"
      ]
     },
     "execution_count": 20,
     "metadata": {},
     "output_type": "execute_result"
    }
   ],
   "source": [
    "dataset = pd.read_csv(\"novinky_small.csv\")\n",
    "dataset.head()"
   ]
  },
  {
   "cell_type": "code",
   "execution_count": 21,
   "metadata": {},
   "outputs": [],
   "source": [
    "x_raw = dataset[\"text\"]\n",
    "y_raw = dataset[\"category\"]"
   ]
  },
  {
   "cell_type": "markdown",
   "metadata": {},
   "source": [
    "## Select ALBERT model"
   ]
  },
  {
   "cell_type": "code",
   "execution_count": 22,
   "metadata": {},
   "outputs": [],
   "source": [
    "model_defs = {\n",
    "    # example: (path, width, batch_size)\n",
    "    \"csbase3\": (\"pretrained/csbase3_ckpt/\", 256, 24),\n",
    "    \"csbase4\": (\"pretrained/csbase4_ckpt/\", 256, 16),\n",
    "    \"cslarge3\": (\"pretrained/cslarge3_ckpt/\", 512, 12)\n",
    "}\n",
    "\n",
    "model_name = \"csbase3\"\n",
    "model_path, max_seq_len, batch_size = model_defs[model_name]"
   ]
  },
  {
   "cell_type": "markdown",
   "metadata": {},
   "source": [
    "## Tokenize text"
   ]
  },
  {
   "cell_type": "code",
   "execution_count": 28,
   "metadata": {},
   "outputs": [],
   "source": [
    "import sentencepiece as spm\n",
    "import tensorflow as tf\n",
    "import tensorflow.keras as keras\n",
    "import re\n",
    "\n",
    "class SPMEmbedder():\n",
    "    def __init__(self, path, lemmatize=None):\n",
    "        sp = spm.SentencePieceProcessor()\n",
    "        sp.Load(path)\n",
    "        self.sp = sp\n",
    "        if lemmatize is None:\n",
    "            lemmatize = lambda x: x\n",
    "        self.lemmatize = lemmatize\n",
    "        \n",
    "    def encode(self, text):\n",
    "        return [self.sp.piece_to_id(\"[CLS]\"),\n",
    "                *self.sp.EncodeAsIds(self.lemmatize(text)), \n",
    "                self.sp.piece_to_id(\"[SEP]\")\n",
    "               ]\n",
    "    \n",
    "    def decode(self, indexes):\n",
    "        return self.sp.DecodeIds(list(map(int, indexes)))\n",
    "    \n",
    "    def decode_pieces(self, indexes):\n",
    "        return \" \".join(self.sp.id_to_piece(int(id_)) for id_ in indexes)\n",
    "    \n",
    "    def get_embed_fcn(self, width):\n",
    "        def embed(sentence):\n",
    "            return keras.preprocessing.sequence.pad_sequences(\n",
    "                [self.encode(sentence)], width, padding=\"post\", truncating=\"post\")[0]\n",
    "        return embed\n",
    "    \n",
    "def lemmatize(text, lowercase=True):\n",
    "    if lowercase:\n",
    "        text = text.lower()\n",
    "    text = re.sub(\"[0-9]\", \"#\", text)\n",
    "    text = re.sub(\"[‒–—―]\", \"-\", text)\n",
    "    text = re.sub(\"[“”‘’„“‚‘\\\"']\", \"'\", text)\n",
    "    text = re.sub(\"[^0-9a-zóěščřžýáíďéťňůúA-ZÓĚŠČŘŽÝÁÍĎÉŤŇŮÚ\\\\.,\\\\!\\\\?%\\\\(\\\\)\\\\-'#: ]\", \"\", text)\n",
    "\n",
    "    return text\n",
    "\n",
    "\n",
    "embedder = SPMEmbedder(f\"{model_path}/spm.model\", lemmatize)"
   ]
  },
  {
   "cell_type": "markdown",
   "metadata": {},
   "source": [
    "## Embed the inputs"
   ]
  },
  {
   "cell_type": "code",
   "execution_count": 30,
   "metadata": {},
   "outputs": [
    {
     "data": {
      "text/plain": [
       "array([[    2,  2243,   886, ...,     0,     0,     0],\n",
       "       [    2,  7181, 18226, ...,     0,     0,     0],\n",
       "       [    2,  7427,  2182, ...,     0,     0,     0],\n",
       "       ...,\n",
       "       [    2,   561,    84, ...,     0,     0,     0],\n",
       "       [    2,   144, 14978, ...,     0,     0,     0],\n",
       "       [    2,   396,  4101, ...,     0,     0,     0]], dtype=int32)"
      ]
     },
     "execution_count": 30,
     "metadata": {},
     "output_type": "execute_result"
    }
   ],
   "source": [
    "x = np.stack(x_raw.map(embedder.get_embed_fcn(max_seq_len)))\n",
    "x"
   ]
  },
  {
   "cell_type": "markdown",
   "metadata": {},
   "source": [
    "## Create category map and normalize categories"
   ]
  },
  {
   "cell_type": "code",
   "execution_count": 45,
   "metadata": {},
   "outputs": [
    {
     "data": {
      "text/plain": [
       "{740: 0, 986: 1, 13: 2, 12: 3, 5: 4, 4: 5, 3: 6, 2: 7}"
      ]
     },
     "execution_count": 45,
     "metadata": {},
     "output_type": "execute_result"
    }
   ],
   "source": [
    "cat2index = {}\n",
    "index2cat = {}\n",
    "\n",
    "for i, cat in enumerate(y_raw.value_counts().index):\n",
    "    cat2index[cat] = i\n",
    "    index2cat[i] = cat\n",
    "    \n",
    "y = y_raw.map(lambda x: cat2index[x])\n",
    "\n",
    "cat2index"
   ]
  },
  {
   "cell_type": "markdown",
   "metadata": {},
   "source": [
    "## Create ALBERT model "
   ]
  },
  {
   "cell_type": "code",
   "execution_count": 42,
   "metadata": {},
   "outputs": [
    {
     "name": "stdout",
     "output_type": "stream",
     "text": [
      "Loading google-research/ALBERT weights...\n",
      "Done loading 22 BERT weights from: pretrained/csbase3_ckpt/model.ckpt-best into <bert.model.BertModelLayer object at 0x7fc98436bee0> (prefix:albert_3). Count of weights not found in the checkpoint was: [0]. Count of weights with mismatched shape: [0]\n",
      "Unused weights from checkpoint: \n",
      "\tbert/embeddings/LayerNorm/beta/adam_m\n",
      "\tbert/embeddings/LayerNorm/beta/adam_v\n",
      "\tbert/embeddings/LayerNorm/gamma/adam_m\n",
      "\tbert/embeddings/LayerNorm/gamma/adam_v\n",
      "\tbert/embeddings/position_embeddings/adam_m\n",
      "\tbert/embeddings/position_embeddings/adam_v\n",
      "\tbert/embeddings/token_type_embeddings\n",
      "\tbert/embeddings/token_type_embeddings/adam_m\n",
      "\tbert/embeddings/token_type_embeddings/adam_v\n",
      "\tbert/embeddings/word_embeddings/adam_m\n",
      "\tbert/embeddings/word_embeddings/adam_v\n",
      "\tbert/encoder/embedding_hidden_mapping_in/bias/adam_m\n",
      "\tbert/encoder/embedding_hidden_mapping_in/bias/adam_v\n",
      "\tbert/encoder/embedding_hidden_mapping_in/kernel/adam_m\n",
      "\tbert/encoder/embedding_hidden_mapping_in/kernel/adam_v\n",
      "\tbert/encoder/transformer/group_0/inner_group_0/LayerNorm/beta/adam_m\n",
      "\tbert/encoder/transformer/group_0/inner_group_0/LayerNorm/beta/adam_v\n",
      "\tbert/encoder/transformer/group_0/inner_group_0/LayerNorm/gamma/adam_m\n",
      "\tbert/encoder/transformer/group_0/inner_group_0/LayerNorm/gamma/adam_v\n",
      "\tbert/encoder/transformer/group_0/inner_group_0/LayerNorm_1/beta/adam_m\n",
      "\tbert/encoder/transformer/group_0/inner_group_0/LayerNorm_1/beta/adam_v\n",
      "\tbert/encoder/transformer/group_0/inner_group_0/LayerNorm_1/gamma/adam_m\n",
      "\tbert/encoder/transformer/group_0/inner_group_0/LayerNorm_1/gamma/adam_v\n",
      "\tbert/encoder/transformer/group_0/inner_group_0/attention_1/output/dense/bias/adam_m\n",
      "\tbert/encoder/transformer/group_0/inner_group_0/attention_1/output/dense/bias/adam_v\n",
      "\tbert/encoder/transformer/group_0/inner_group_0/attention_1/output/dense/kernel/adam_m\n",
      "\tbert/encoder/transformer/group_0/inner_group_0/attention_1/output/dense/kernel/adam_v\n",
      "\tbert/encoder/transformer/group_0/inner_group_0/attention_1/self/key/bias/adam_m\n",
      "\tbert/encoder/transformer/group_0/inner_group_0/attention_1/self/key/bias/adam_v\n",
      "\tbert/encoder/transformer/group_0/inner_group_0/attention_1/self/key/kernel/adam_m\n",
      "\tbert/encoder/transformer/group_0/inner_group_0/attention_1/self/key/kernel/adam_v\n",
      "\tbert/encoder/transformer/group_0/inner_group_0/attention_1/self/query/bias/adam_m\n",
      "\tbert/encoder/transformer/group_0/inner_group_0/attention_1/self/query/bias/adam_v\n",
      "\tbert/encoder/transformer/group_0/inner_group_0/attention_1/self/query/kernel/adam_m\n",
      "\tbert/encoder/transformer/group_0/inner_group_0/attention_1/self/query/kernel/adam_v\n",
      "\tbert/encoder/transformer/group_0/inner_group_0/attention_1/self/value/bias/adam_m\n",
      "\tbert/encoder/transformer/group_0/inner_group_0/attention_1/self/value/bias/adam_v\n",
      "\tbert/encoder/transformer/group_0/inner_group_0/attention_1/self/value/kernel/adam_m\n",
      "\tbert/encoder/transformer/group_0/inner_group_0/attention_1/self/value/kernel/adam_v\n",
      "\tbert/encoder/transformer/group_0/inner_group_0/ffn_1/intermediate/dense/bias/adam_m\n",
      "\tbert/encoder/transformer/group_0/inner_group_0/ffn_1/intermediate/dense/bias/adam_v\n",
      "\tbert/encoder/transformer/group_0/inner_group_0/ffn_1/intermediate/dense/kernel/adam_m\n",
      "\tbert/encoder/transformer/group_0/inner_group_0/ffn_1/intermediate/dense/kernel/adam_v\n",
      "\tbert/encoder/transformer/group_0/inner_group_0/ffn_1/intermediate/output/dense/bias/adam_m\n",
      "\tbert/encoder/transformer/group_0/inner_group_0/ffn_1/intermediate/output/dense/bias/adam_v\n",
      "\tbert/encoder/transformer/group_0/inner_group_0/ffn_1/intermediate/output/dense/kernel/adam_m\n",
      "\tbert/encoder/transformer/group_0/inner_group_0/ffn_1/intermediate/output/dense/kernel/adam_v\n",
      "\tbert/pooler/dense/bias\n",
      "\tbert/pooler/dense/bias/adam_m\n",
      "\tbert/pooler/dense/bias/adam_v\n",
      "\tbert/pooler/dense/kernel\n",
      "\tbert/pooler/dense/kernel/adam_m\n",
      "\tbert/pooler/dense/kernel/adam_v\n",
      "\tcls/predictions/output_bias\n",
      "\tcls/predictions/output_bias/adam_m\n",
      "\tcls/predictions/output_bias/adam_v\n",
      "\tcls/predictions/transform/LayerNorm/beta\n",
      "\tcls/predictions/transform/LayerNorm/beta/adam_m\n",
      "\tcls/predictions/transform/LayerNorm/beta/adam_v\n",
      "\tcls/predictions/transform/LayerNorm/gamma\n",
      "\tcls/predictions/transform/LayerNorm/gamma/adam_m\n",
      "\tcls/predictions/transform/LayerNorm/gamma/adam_v\n",
      "\tcls/predictions/transform/dense/bias\n",
      "\tcls/predictions/transform/dense/bias/adam_m\n",
      "\tcls/predictions/transform/dense/bias/adam_v\n",
      "\tcls/predictions/transform/dense/kernel\n",
      "\tcls/predictions/transform/dense/kernel/adam_m\n",
      "\tcls/predictions/transform/dense/kernel/adam_v\n",
      "\tcls/seq_relationship/output_bias\n",
      "\tcls/seq_relationship/output_bias/adam_m\n",
      "\tcls/seq_relationship/output_bias/adam_v\n",
      "\tcls/seq_relationship/output_weights\n",
      "\tcls/seq_relationship/output_weights/adam_m\n",
      "\tcls/seq_relationship/output_weights/adam_v\n",
      "\tglobal_step\n",
      "Model: \"model_1\"\n",
      "_________________________________________________________________\n",
      "Layer (type)                 Output Shape              Param #   \n",
      "=================================================================\n",
      "input_tokens (InputLayer)    [(None, 256)]             0         \n",
      "_________________________________________________________________\n",
      "albert (BertModelLayer)      (None, 256, 256)          5221120   \n",
      "_________________________________________________________________\n",
      "cls_selector (Lambda)        (None, 256)               0         \n",
      "_________________________________________________________________\n",
      "classifier (Dense)           (None, 8)                 2056      \n",
      "=================================================================\n",
      "Total params: 5,223,176\n",
      "Trainable params: 5,223,176\n",
      "Non-trainable params: 0\n",
      "_________________________________________________________________\n"
     ]
    }
   ],
   "source": [
    "import tensorflow as tf\n",
    "import tensorflow.keras as keras\n",
    "import bert\n",
    "\n",
    "def get_albert_layer(path, max_seq_len, name, trainable=True):\n",
    "    albert_params = bert.albert_params(path)\n",
    "    l_albert = bert.BertModelLayer.from_params(albert_params, name=name, \n",
    "                                             shared_layer=True, trainable=trainable)\n",
    "    return l_albert\n",
    "    \n",
    "def get_model(path, max_seq_len, category_map, albert_trainable=True, init=True):\n",
    "    l_input_ids = keras.layers.Input(shape=(max_seq_len,), dtype='int32', name=\"input_tokens\")\n",
    "    l_albert = get_albert_layer(path, max_seq_len, \"albert\", albert_trainable)\n",
    "    l_middle = l_albert(l_input_ids)\n",
    "    cls_embed = keras.layers.Lambda(lambda seq: seq[:, 0, :], name=\"cls_selector\")(l_middle)\n",
    "    \n",
    "    num_classes = len(category_map)\n",
    "    l_output = keras.layers.Dense(num_classes, activation='softmax', name=\"classifier\")(cls_embed)\n",
    "    \n",
    "    model = keras.Model(inputs=l_input_ids, outputs=l_output)\n",
    "    opt = keras.optimizers.Adam(learning_rate=1e-5, beta_1=0.9, beta_2=0.999, amsgrad=True)\n",
    "    model.compile(optimizer=opt,\n",
    "                  loss=\"sparse_categorical_crossentropy\",\n",
    "                  metrics=[keras.metrics.SparseCategoricalAccuracy(name=\"acc\")],\n",
    "    )\n",
    "\n",
    "    # load the pretrained weights\n",
    "    if init:\n",
    "        bert.load_albert_weights(l_albert, path+\"model.ckpt-best\")\n",
    "    \n",
    "    return model\n",
    "\n",
    "model = get_model(model_path, max_seq_len, cat2index)\n",
    "model.summary()"
   ]
  },
  {
   "cell_type": "markdown",
   "metadata": {},
   "source": [
    "##  Train model\n",
    "Because of the small datasets, the model does not have enough data to train"
   ]
  },
  {
   "cell_type": "code",
   "execution_count": 49,
   "metadata": {},
   "outputs": [
    {
     "name": "stdout",
     "output_type": "stream",
     "text": [
      "Epoch 1/6\n",
      "3/3 [==============================] - 1s 318ms/step - loss: 0.1474 - acc: 1.0000 - val_loss: 4.2759 - val_acc: 0.0000e+00\n",
      "Epoch 2/6\n",
      "3/3 [==============================] - 1s 317ms/step - loss: 0.1289 - acc: 1.0000 - val_loss: 4.3243 - val_acc: 0.0000e+00\n",
      "Epoch 3/6\n",
      "3/3 [==============================] - 1s 318ms/step - loss: 0.1122 - acc: 1.0000 - val_loss: 4.3676 - val_acc: 0.0000e+00\n",
      "Epoch 4/6\n",
      "3/3 [==============================] - 1s 319ms/step - loss: 0.0987 - acc: 1.0000 - val_loss: 4.4030 - val_acc: 0.0000e+00\n",
      "Epoch 5/6\n",
      "3/3 [==============================] - 1s 328ms/step - loss: 0.0925 - acc: 1.0000 - val_loss: 4.4392 - val_acc: 0.0000e+00\n",
      "Epoch 6/6\n",
      "3/3 [==============================] - 1s 325ms/step - loss: 0.0817 - acc: 1.0000 - val_loss: 4.4561 - val_acc: 0.0000e+00\n"
     ]
    }
   ],
   "source": [
    "hist = model.fit(\n",
    "    x, y,\n",
    "    epochs=6,\n",
    "    batch_size=batch_size,\n",
    "    validation_split=0.2\n",
    ")"
   ]
  },
  {
   "cell_type": "code",
   "execution_count": null,
   "metadata": {},
   "outputs": [],
   "source": []
  }
 ],
 "metadata": {
  "kernelspec": {
   "display_name": "Python 3",
   "language": "python",
   "name": "python3"
  },
  "language_info": {
   "codemirror_mode": {
    "name": "ipython",
    "version": 3
   },
   "file_extension": ".py",
   "mimetype": "text/x-python",
   "name": "python",
   "nbconvert_exporter": "python",
   "pygments_lexer": "ipython3",
   "version": "3.8.2"
  }
 },
 "nbformat": 4,
 "nbformat_minor": 4
}
